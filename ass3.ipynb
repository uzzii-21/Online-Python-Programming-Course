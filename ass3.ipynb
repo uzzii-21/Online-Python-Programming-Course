{
 "cells": [
  {
   "cell_type": "code",
   "execution_count": 2,
   "metadata": {},
   "outputs": [
    {
     "name": "stdout",
     "output_type": "stream",
     "text": [
      "1 = Addition\n",
      "2 = Subtraction\n",
      "3 = Multiplication\n",
      "4 = Division\n",
      "5 = Power Value\n",
      "6 = Exit program\n",
      "Enter number : 1\n",
      "Addition\n",
      "Enter first number :5\n",
      "Enter second number :5\n",
      "5 + 5 = 10\n"
     ]
    }
   ],
   "source": [
    "print (\"1 = Addition\")\n",
    "print (\"2 = Subtraction\")\n",
    "print (\"3 = Multiplication\")\n",
    "print (\"4 = Division\")\n",
    "print (\"5 = Power Value\")\n",
    "print (\"6 = Exit program\")\n",
    "\n",
    "num = int(input(\"Enter number : \"))\n",
    "\n",
    "if num == 1:\n",
    "        print (\"Addition\")\n",
    "        first = int(input(\"Enter first number :\"))\n",
    "        second = int(input(\"Enter second number :\"))\n",
    "        result = first + second\n",
    "        print (first, '+' , second, '=' ,result)\n",
    "\n",
    "elif num == 2:\n",
    "        print (\"Subtraction\")\n",
    "        first = int(input(\"Enter first number :\"))\n",
    "        second = int(input(\"Enter second number :\"))\n",
    "        result = first - second\n",
    "        print (first, '-' , second,  '=' ,result)\n",
    "\n",
    "elif num == 3:\n",
    "        print (\"Multiplication\")\n",
    "        first = int(input(\"Enter first number :\"))\n",
    "        second = int(input(\"Enter second number :\"))\n",
    "        result = first * second\n",
    "        print (first, '*' , second, '=' ,result)\n",
    "\n",
    "elif num == 4:\n",
    "        print (\"Division\")\n",
    "        first = int(input(\"Enter first number :\"))\n",
    "        second = int(input(\"Enter second number :\"))\n",
    "        result = float(first / second)\n",
    "        print (first, '/' , second, '=' ,result)\n",
    "        \n",
    "elif num == 5:\n",
    "        print (\"Power\")\n",
    "        first = int(input(\"Enter first number :\"))\n",
    "        second = int(input(\"Enter the power :\"))\n",
    "        result = first ** second\n",
    "        print (first, 'power' , second, '=' ,result)\n",
    "        \n",
    "elif num == 6:\n",
    "        print (\"Quit!\")\n",
    "        \n",
    "else:\n",
    "        print (\"ERROR\")"
   ]
  },
  {
   "cell_type": "code",
   "execution_count": 5,
   "metadata": {},
   "outputs": [
    {
     "ename": "TypeError",
     "evalue": "int() argument must be a string, a bytes-like object or a number, not 'list'",
     "output_type": "error",
     "traceback": [
      "\u001b[1;31m---------------------------------------------------------------------------\u001b[0m",
      "\u001b[1;31mTypeError\u001b[0m                                 Traceback (most recent call last)",
      "\u001b[1;32m<ipython-input-5-eac9f1d5e4a6>\u001b[0m in \u001b[0;36m<module>\u001b[1;34m\u001b[0m\n\u001b[0;32m      1\u001b[0m \u001b[0mthislist\u001b[0m \u001b[1;33m=\u001b[0m \u001b[1;33m[\u001b[0m\u001b[1;34m\"apple\"\u001b[0m\u001b[1;33m,\u001b[0m \u001b[1;34m\"banana\"\u001b[0m\u001b[1;33m,\u001b[0m\u001b[1;34m\"banana\"\u001b[0m\u001b[1;33m,\u001b[0m \u001b[1;36m126\u001b[0m \u001b[1;33m,\u001b[0m \u001b[1;36m564\u001b[0m \u001b[1;33m,\u001b[0m\u001b[1;34m\"cherry\"\u001b[0m\u001b[1;33m,\u001b[0m \u001b[1;34m\"orange\"\u001b[0m\u001b[1;33m,\u001b[0m \u001b[1;34m\"kiwi\"\u001b[0m\u001b[1;33m,\u001b[0m \u001b[1;34m\"melon\"\u001b[0m\u001b[1;33m,\u001b[0m \u001b[1;34m\"mango\"\u001b[0m\u001b[1;33m]\u001b[0m\u001b[1;33m\u001b[0m\u001b[1;33m\u001b[0m\u001b[0m\n\u001b[1;32m----> 2\u001b[1;33m \u001b[0mprint\u001b[0m\u001b[1;33m(\u001b[0m\u001b[0mint\u001b[0m\u001b[1;33m(\u001b[0m\u001b[0mthislist\u001b[0m\u001b[1;33m)\u001b[0m\u001b[1;33m)\u001b[0m\u001b[1;33m\u001b[0m\u001b[1;33m\u001b[0m\u001b[0m\n\u001b[0m",
      "\u001b[1;31mTypeError\u001b[0m: int() argument must be a string, a bytes-like object or a number, not 'list'"
     ]
    }
   ],
   "source": [
    "thislist = [\"apple\", \"banana\",\"banana\", 126 , 564 ,\"cherry\", \"orange\", \"kiwi\", \"melon\", \"mango\"]\n",
    "print(int(thislist))\n"
   ]
  },
  {
   "cell_type": "code",
   "execution_count": 7,
   "metadata": {},
   "outputs": [
    {
     "name": "stdout",
     "output_type": "stream",
     "text": [
      "{1: 'one'}\n",
      "{1: 'one', 2: 'two'}\n"
     ]
    }
   ],
   "source": [
    "d = {1:'one'}\n",
    "print(d)\n",
    "d.update({2:'two'})\n",
    "print(d)"
   ]
  },
  {
   "cell_type": "code",
   "execution_count": 10,
   "metadata": {},
   "outputs": [
    {
     "name": "stdout",
     "output_type": "stream",
     "text": [
      "306\n"
     ]
    }
   ],
   "source": [
    "my_dict = {'value1':152,'value2':154}\n",
    "print(sum(my_dict.values()))"
   ]
  },
  {
   "cell_type": "code",
   "execution_count": 14,
   "metadata": {},
   "outputs": [
    {
     "name": "stdout",
     "output_type": "stream",
     "text": [
      "[1, 2, 3, 4, 5, 9]\n"
     ]
    }
   ],
   "source": [
    "list1 = [1,2,1,3,1,4,1,4,2,5,9]\n",
    "\n",
    "unique = []\n",
    "for ele in list1:\n",
    "    if ele not in unique:\n",
    "        unique.append(ele)\n",
    "print (unique)"
   ]
  },
  {
   "cell_type": "code",
   "execution_count": null,
   "metadata": {},
   "outputs": [],
   "source": []
  }
 ],
 "metadata": {
  "kernelspec": {
   "display_name": "Python 3",
   "language": "python",
   "name": "python3"
  },
  "language_info": {
   "codemirror_mode": {
    "name": "ipython",
    "version": 3
   },
   "file_extension": ".py",
   "mimetype": "text/x-python",
   "name": "python",
   "nbconvert_exporter": "python",
   "pygments_lexer": "ipython3",
   "version": "3.7.4"
  }
 },
 "nbformat": 4,
 "nbformat_minor": 2
}
