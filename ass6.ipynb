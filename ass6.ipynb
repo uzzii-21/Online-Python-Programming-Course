{
 "cells": [
  {
   "cell_type": "markdown",
   "metadata": {},
   "source": [
    "# Object-oriented programming (OOP)\n",
    "Object-oriented programming (OOP) refers to a type of computer programming (software design) in which programmers define the data type of a data structure, and also the types of operations (functions) that can be applied to the data structure."
   ]
  },
  {
   "cell_type": "markdown",
   "metadata": {},
   "source": [
    "# Benefits of OOP\n",
    "=>OOP provides a clear modular structure for programs.\n",
    "\n",
    "=>It is good for defining abstract data types.\n",
    "\n",
    "=>Implementation details are hidden from other modules and other modules has a clearly defined interface.\n",
    "\n",
    "=>It is easy to maintain and modify existing code as new objects can be created with small differences to existing ones.\n",
    "\n",
    "=>objects, methods, instance, message passing, inheritance are some important properties provided by these particular languages\n",
    "encapsulation, polymorphism, abstraction are also counts in these fundamentals of programming language.\n",
    "\n",
    "=>It implements real life scenario.\n",
    "\n",
    "=>In OOP, programmer not only defines data types but also deals with operations applied for data structures.\n"
   ]
  },
  {
   "cell_type": "markdown",
   "metadata": {},
   "source": [
    "# Differentiate between function and method\n",
    "\n",
    "##  Functions\n",
    "1.Functions have independent existence means they can be defined outside of the class.\n",
    "\n",
    "2.Functions do not have any reference variable.\n",
    "\n",
    "3.Functions are self describing unit of code.\n",
    "\n",
    "4.All data that are passed to a function are explicitly passed.\n",
    "\n",
    "## Methods\n",
    "1.Methods do not have independent existence they are always defined with in class.\n",
    "\n",
    "2.Methods are defined in object oriented languages.\n",
    "\n",
    "3.Methods are called using reference variable.\n",
    "\n",
    "4.Methods are used to manipuate instance variable of a class.\n",
    "\n"
   ]
  },
  {
   "cell_type": "markdown",
   "metadata": {},
   "source": [
    "### Classes\n",
    "A class is a code template for creating objects. Objects have member variables and have behaviour associated with them. In python a class is created by the keyword class . An object is created using the constructor of the class. This object will then be called the instance of the class.\n",
    "\n",
    "### Attributes\n",
    "In python, functions too are objects. So they have attributes like other objects. ... We can also assign new attributes to them, as well as retrieve the values of those attributes. For handling attributes, Python provides us with “getattr” and “setattr”, a function that takes three arguments\n",
    "\n",
    "### Object \n",
    "Python is an object oriented programming language. Unlike procedure oriented programming, where the main emphasis is on functions, object oriented programming stress on objects. Object is simply a collection of data (variables) and methods (functions) that act on those data.\n",
    "\n",
    "### Behavior \n",
    "Object Behavior and Special Methods. Objects in Python are generally classified according to their behaviors and the features that they implement. ... User-defined classes can define new objects that behave like the built-in types simply by supplying an appropriate subset of the special methods described in this section.\n",
    "\n"
   ]
  },
  {
   "cell_type": "markdown",
   "metadata": {},
   "source": []
  }
 ],
 "metadata": {
  "kernelspec": {
   "display_name": "Python 3",
   "language": "python",
   "name": "python3"
  },
  "language_info": {
   "codemirror_mode": {
    "name": "ipython",
    "version": 3
   },
   "file_extension": ".py",
   "mimetype": "text/x-python",
   "name": "python",
   "nbconvert_exporter": "python",
   "pygments_lexer": "ipython3",
   "version": "3.7.4"
  }
 },
 "nbformat": 4,
 "nbformat_minor": 2
}
