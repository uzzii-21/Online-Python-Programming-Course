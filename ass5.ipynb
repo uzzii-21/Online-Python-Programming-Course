{
 "cells": [
  {
   "cell_type": "code",
   "execution_count": 1,
   "metadata": {},
   "outputs": [
    {
     "name": "stdout",
     "output_type": "stream",
     "text": [
      "Input a number to compute the factiorial : 7\n",
      "The factorial of 7 is 5040\n"
     ]
    }
   ],
   "source": [
    "def factorial(number):\n",
    "    f = 1\n",
    "    if number < 0:\n",
    "        print(\"factorial does not exist for negative numbers\")\n",
    "    elif number == 0:\n",
    "        print(\"The factorial of 0 is 1\")\n",
    "    else:\n",
    "        for i in range(1,number + 1):\n",
    "            f=f*i\n",
    "    print('The factorial of',number,'is',f)\n",
    "input1 = int(input('Input a number to compute the factiorial : '))\n",
    "factorial(input1)"
   ]
  },
  {
   "cell_type": "code",
   "execution_count": 4,
   "metadata": {},
   "outputs": [
    {
     "name": "stdout",
     "output_type": "stream",
     "text": [
      "Write something in upper and lower case = ghjGHGhjgHJGhghGytYyfHF\n",
      "No. of Upper case characters :  10 No. of Lower case characters :  13 Total LENGTH  23\n"
     ]
    }
   ],
   "source": [
    "def string(s):\n",
    "    upper = 0\n",
    "    lower = 0\n",
    "    for i in s:\n",
    "        if i.isupper():\n",
    "            upper += 1\n",
    "        elif i.islower():\n",
    "            lower += 1\n",
    "    print(\"No. of Upper case characters : \",upper,\"No. of Lower case characters : \",lower,'Total LENGTH ',len(s))\n",
    "a = input('Write something in upper and lower case = ')\n",
    "string(a)"
   ]
  },
  {
   "cell_type": "code",
   "execution_count": 5,
   "metadata": {},
   "outputs": [
    {
     "name": "stdout",
     "output_type": "stream",
     "text": [
      "10 4 66 "
     ]
    }
   ],
   "source": [
    "def evenFun():\n",
    "    s = [10, 21, 4, 45, 66, 93] \n",
    "    for i in s:\n",
    "        if i % 2 == 0:\n",
    "            print(i,end = ' ')\n",
    "evenFun()"
   ]
  },
  {
   "cell_type": "code",
   "execution_count": 6,
   "metadata": {},
   "outputs": [
    {
     "name": "stdout",
     "output_type": "stream",
     "text": [
      "Enter any string : civic\n",
      "string is palindrome\n"
     ]
    }
   ],
   "source": [
    "n = input(\"Enter any string : \")\n",
    "m = n[::-1]\n",
    "if(m == n):\n",
    "    print(\"string is palindrome\")\n",
    "else:\n",
    "    print(\"string is not palindrome\")"
   ]
  },
  {
   "cell_type": "code",
   "execution_count": 7,
   "metadata": {},
   "outputs": [
    {
     "name": "stdout",
     "output_type": "stream",
     "text": [
      "6 is not a prime number\n",
      "2 times 3 is 6\n"
     ]
    }
   ],
   "source": [
    "def prime(num):\n",
    "    if num > 1:\n",
    "         for i in range(2,num):\n",
    "            if (num % i) == 0:\n",
    "                print(num,\"is not a prime number\")\n",
    "                print(i,\"times\",num//i,\"is\",num)\n",
    "                break\n",
    "\n",
    "            else:\n",
    "                 print(num,\"is a prime number\")\n",
    "    else:\n",
    "        print(num,\"is not a prime number\")\n",
    "prime(6)"
   ]
  },
  {
   "cell_type": "code",
   "execution_count": 9,
   "metadata": {},
   "outputs": [
    {
     "name": "stdout",
     "output_type": "stream",
     "text": [
      "fruits\n",
      "vegetables\n",
      "meat\n",
      "keyboard\n",
      "mouse\n",
      "chair\n"
     ]
    }
   ],
   "source": [
    "def shopList(*item,end = ' '):\n",
    "    for i in  item:\n",
    "        print(i)\n",
    "shopList(\"fruits\",\"vegetables\",\"meat\",\"keyboard\",\"mouse\",\"chair\")"
   ]
  },
  {
   "cell_type": "code",
   "execution_count": null,
   "metadata": {},
   "outputs": [],
   "source": []
  }
 ],
 "metadata": {
  "kernelspec": {
   "display_name": "Python 3",
   "language": "python",
   "name": "python3"
  },
  "language_info": {
   "codemirror_mode": {
    "name": "ipython",
    "version": 3
   },
   "file_extension": ".py",
   "mimetype": "text/x-python",
   "name": "python",
   "nbconvert_exporter": "python",
   "pygments_lexer": "ipython3",
   "version": "3.7.4"
  }
 },
 "nbformat": 4,
 "nbformat_minor": 2
}