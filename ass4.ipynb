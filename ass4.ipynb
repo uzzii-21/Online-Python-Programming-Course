{
 "cells": [
  {
   "cell_type": "code",
   "execution_count": 1,
   "metadata": {},
   "outputs": [
    {
     "name": "stdout",
     "output_type": "stream",
     "text": [
      "{'firstName': 'Salman', 'lastName': 'Malick', 'age': 18, 'city': 'Karachi'}\n",
      "{'firstName': 'Salman', 'lastName': 'Malick', 'age': 18, 'city': 'Karachi', 'qualification': 'PHd'}\n",
      "{'firstName': 'Salman', 'lastName': 'Malick', 'age': 18, 'city': 'Karachi'}\n"
     ]
    }
   ],
   "source": [
    "aboutPerson = {\n",
    "  \"firstName\": \"Salman\",\n",
    "  \"lastName\": \"Malick\",\n",
    "  \"age\": 18,\n",
    "  \"city\": \"Karachi\"\n",
    "}\n",
    "print(aboutPerson)\n",
    "aboutPerson.update({\"qualification\": \"PHd\"})\n",
    "print(aboutPerson)\n",
    "del aboutPerson[\"qualification\"]\n",
    "print(aboutPerson)"
   ]
  },
  {
   "cell_type": "code",
   "execution_count": 5,
   "metadata": {},
   "outputs": [
    {
     "name": "stdout",
     "output_type": "stream",
     "text": [
      "karachi:\n",
      "population = 16.62 million\n",
      "Country = Pakistan\n",
      "about = Karachi; is the capital of the Pakistani province of Sindh. It is the most populous city in Pakistan, and fifth-most-populous city proper in the world\n",
      "newyork:\n",
      "population = 19.54 million\n",
      "Country = United States\n",
      "about = New York City comprises 5 boroughs sitting where the Hudson River meets the Atlantic Ocean.\n",
      "mumbai:\n",
      "population = 18.41 million\n",
      "Country = India\n",
      "about = Mumbai (formerly called Bombay) is a densely populated city on India’s west coast. A financial center, it s India s largest city.\n",
      "1 = Karachi\n",
      "2 = New York\n",
      "3 = Mumbai\n",
      "Enter the city name = karachi\n",
      "('population', '16.62 million')\n",
      "('Country', 'Pakistan')\n",
      "('about', 'Karachi; is the capital of the Pakistani province of Sindh. It is the most populous city in Pakistan, and fifth-most-populous city proper in the world')\n"
     ]
    }
   ],
   "source": [
    "cities = {\n",
    "  'karachi': {\n",
    "   'population' : '16.62 million',\n",
    "   'Country' : 'Pakistan',\n",
    "   'about' : 'Karachi; is the capital of the Pakistani province of Sindh. It is the most populous city in Pakistan, and fifth-most-populous city proper in the world',  \n",
    "   },\n",
    "   'newyork': {\n",
    "    'population' : '19.54 million',\n",
    "    'Country' : 'United States',\n",
    "    'about' : 'New York City comprises 5 boroughs sitting where the Hudson River meets the Atlantic Ocean.'\n",
    "   },\n",
    "    'mumbai': {\n",
    "    'population' : '18.41 million',\n",
    "    'Country' : 'India',\n",
    "    'about' : 'Mumbai (formerly called Bombay) is a densely populated city on India’s west coast. A financial center, it s India s largest city.'\n",
    "   }\n",
    "}\n",
    "for city in cities.keys():\n",
    "    print(city+\":\")\n",
    "    a = cities[city]\n",
    "    for b in a.keys():\n",
    "        c = a[b]\n",
    "        print(b+\" = \"+c)\n",
    "  \n",
    "# this is the another way to get info about cities\n",
    "cityName = ['1 = Karachi','2 = New York','3 = Mumbai']\n",
    "for i in cityName:\n",
    "    print(i)\n",
    "a = input('Enter the city name = ')\n",
    "for key in cities[a].items():\n",
    "  print(key)\n"
   ]
  },
  {
   "cell_type": "code",
   "execution_count": 6,
   "metadata": {},
   "outputs": [
    {
     "name": "stdout",
     "output_type": "stream",
     "text": [
      "How many person’s = 2\n",
      "Enter person’s age = 15\n",
      "The ticket is $15\n",
      "Enter person’s age = 3\n",
      "The ticket is $10\n",
      "Your amount =  25 $\n"
     ]
    }
   ],
   "source": [
    "person = int(input('How many person’s = '))\n",
    "tickt = 0\n",
    "for a in range(person) :\n",
    "    age = int(input('Enter person’s age = '))\n",
    "    if age < 3 :\n",
    "        print('The ticket is free')\n",
    "        tickt += 0\n",
    "    elif age >= 3 and age <= 12 :\n",
    "        print('The ticket is $10')\n",
    "        tickt += 10\n",
    "    elif age > 12 :\n",
    "        print('The ticket is $15')\n",
    "        tickt += 15\n",
    "    else :\n",
    "        print('Error')\n",
    "print('Your amount = ',tickt,'$' )"
   ]
  },
  {
   "cell_type": "code",
   "execution_count": 7,
   "metadata": {},
   "outputs": [
    {
     "name": "stdout",
     "output_type": "stream",
     "text": [
      "One of my favorite books is Alice in Wonderland\n"
     ]
    }
   ],
   "source": [
    "book = 'One of my favorite books is Alice in Wonderland'\n",
    "def favorite_book(title) :\n",
    "  print(title)\n",
    "favorite_book(book)"
   ]
  },
  {
   "cell_type": "code",
   "execution_count": 8,
   "metadata": {},
   "outputs": [
    {
     "name": "stdout",
     "output_type": "stream",
     "text": [
      "Guess the correct number between 1 to 30 = 12\n",
      "Congratulation!\n",
      "game over\n"
     ]
    }
   ],
   "source": [
    "import random\n",
    "a = random.randint(0, 30)\n",
    "for index in range(3):\n",
    "  user = int(input('Guess the correct number between 1 to 30 = '))\n",
    "  if a == user :\n",
    "    print('Congratulation!')\n",
    "    break;\n",
    "  elif a < user:\n",
    "      print(\"choose the low number\")\n",
    "  elif a > user:\n",
    "      print(\"choose the high number\")\n",
    "  else :\n",
    "    print('try again')\n",
    "print('game over')"
   ]
  },
  {
   "cell_type": "code",
   "execution_count": null,
   "metadata": {},
   "outputs": [],
   "source": []
  }
 ],
 "metadata": {
  "kernelspec": {
   "display_name": "Python 3",
   "language": "python",
   "name": "python3"
  },
  "language_info": {
   "codemirror_mode": {
    "name": "ipython",
    "version": 3
   },
   "file_extension": ".py",
   "mimetype": "text/x-python",
   "name": "python",
   "nbconvert_exporter": "python",
   "pygments_lexer": "ipython3",
   "version": "3.7.4"
  }
 },
 "nbformat": 4,
 "nbformat_minor": 2
}
