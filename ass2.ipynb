{
 "cells": [
  {
   "cell_type": "code",
   "execution_count": 10,
   "metadata": {},
   "outputs": [
    {
     "name": "stdout",
     "output_type": "stream",
     "text": [
      "Total marks = 500\n",
      "Enter Your Math's Marks : 100\n",
      "Enter Your Chem's Marks : 100\n",
      "Enter Your Phy's Marks : 100\n",
      "Enter Your Urdu's Marks : 100\n",
      "Enter Your Eng's Marks : 100\n",
      "Your grade A+ your total marks 500 your per 100.0\n"
     ]
    }
   ],
   "source": [
    "obMath=100\n",
    "obChem=100\n",
    "obPhy=100\n",
    "obUrdu=100\n",
    "obEng=100\n",
    "total = int(obMath+obChem+obPhy+obUrdu+obEng)\n",
    "print('Total marks =',total)\n",
    "\n",
    "math = int(input(\"Enter Your Math's Marks : \"))\n",
    "chem = int(input(\"Enter Your Chem's Marks : \"))\n",
    "phy = int(input(\"Enter Your Phy's Marks : \"))\n",
    "urdu = int(input(\"Enter Your Urdu's Marks : \"))\n",
    "eng = int(input(\"Enter Your Eng's Marks : \"))\n",
    "\n",
    "ob = int(math+chem+phy+urdu+eng)\n",
    "\n",
    "# print('Your total marks =',totakMarks)\n",
    "\n",
    "per = float(ob*100/total)\n",
    "# print('Your total marks =',per)\n",
    "\n",
    "if per <= 59:\n",
    "    print('Your grade F your total marks ',ob,' your per ',per)\n",
    "elif per <= 69 and per >= 60:\n",
    "    print('Your grade C your total marks '+str(ob)+' your per '+str(per))\n",
    "elif per <= 79 and per >= 70:\n",
    "    print('Your grade B your total marks '+str(ob)+' your per '+str(per))\n",
    "elif per <= 89 and per >= 80:\n",
    "    print('Your grade A your total marks '+str(ob)+' your per '+str(per))\n",
    "elif per <= 100 and per >= 90:\n",
    "    print('Your grade A+ your total marks '+str(ob)+' your per '+str(per))\n",
    "else:\n",
    "    print(\"error\")"
   ]
  },
  {
   "cell_type": "code",
   "execution_count": 8,
   "metadata": {},
   "outputs": [
    {
     "name": "stdout",
     "output_type": "stream",
     "text": [
      "Enter Your value : 65484654\n",
      "The given number is even\n"
     ]
    }
   ],
   "source": [
    "value = int(input(\"Enter Your value : \"))\n",
    "\n",
    "if value % 2:\n",
    "    print('The given number is odd')\n",
    "    \n",
    "else:\n",
    "    print('The given number is even')"
   ]
  },
  {
   "cell_type": "code",
   "execution_count": 7,
   "metadata": {},
   "outputs": [
    {
     "name": "stdout",
     "output_type": "stream",
     "text": [
      " length of the list = 8\n"
     ]
    }
   ],
   "source": [
    "list1 = ['1','2','1','2','1','2','1','2']\n",
    "print(' length of the list =',len(list1))"
   ]
  },
  {
   "cell_type": "code",
   "execution_count": 5,
   "metadata": {},
   "outputs": [
    {
     "name": "stdout",
     "output_type": "stream",
     "text": [
      "largest number from a list: 620\n"
     ]
    }
   ],
   "source": [
    "list1 = [620, 202, -154, 456,] \n",
    "print(\"largest number from a list:\", max(list1)) "
   ]
  },
  {
   "cell_type": "code",
   "execution_count": 2,
   "metadata": {},
   "outputs": [
    {
     "name": "stdout",
     "output_type": "stream",
     "text": [
      "231\n"
     ]
    }
   ],
   "source": [
    "a = [1,1,2,3,4,8,13,21,34,55,89]\n",
    "b = sum(a)\n",
    "print('Sum all the numeric items in a list =',b)"
   ]
  },
  {
   "cell_type": "code",
   "execution_count": 12,
   "metadata": {},
   "outputs": [
    {
     "name": "stdout",
     "output_type": "stream",
     "text": [
      "1\n",
      "1\n",
      "2\n",
      "3\n",
      "4\n"
     ]
    }
   ],
   "source": [
    "a = [5,1,1,2,3,4,8,13,21,34,55,89]\n",
    "for i in a:\n",
    "    if i < 5:\n",
    "        print(i)"
   ]
  },
  {
   "cell_type": "code",
   "execution_count": null,
   "metadata": {},
   "outputs": [],
   "source": []
  }
 ],
 "metadata": {
  "kernelspec": {
   "display_name": "Python 3",
   "language": "python",
   "name": "python3"
  },
  "language_info": {
   "codemirror_mode": {
    "name": "ipython",
    "version": 3
   },
   "file_extension": ".py",
   "mimetype": "text/x-python",
   "name": "python",
   "nbconvert_exporter": "python",
   "pygments_lexer": "ipython3",
   "version": "3.7.4"
  }
 },
 "nbformat": 4,
 "nbformat_minor": 2
}
