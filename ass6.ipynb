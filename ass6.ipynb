{
 "cells": [
  {
   "cell_type": "markdown",
   "metadata": {},
   "source": [
    "# Object-oriented programming (OOP)\n",
    "Object-oriented programming (OOP) refers to a type of computer programming (software design) in which programmers define the data type of a data structure, and also the types of operations (functions) that can be applied to the data structure."
   ]
  },
  {
   "cell_type": "markdown",
   "metadata": {},
   "source": [
    "# Benefits of OOP\n",
    "=>OOP provides a clear modular structure for programs.\n",
    "\n",
    "=>It is good for defining abstract data types.\n",
    "\n",
    "=>Implementation details are hidden from other modules and other modules has a clearly defined interface.\n",
    "\n",
    "=>It is easy to maintain and modify existing code as new objects can be created with small differences to existing ones.\n",
    "\n",
    "=>objects, methods, instance, message passing, inheritance are some important properties provided by these particular languages\n",
    "encapsulation, polymorphism, abstraction are also counts in these fundamentals of programming language.\n",
    "\n",
    "=>It implements real life scenario.\n",
    "\n",
    "=>In OOP, programmer not only defines data types but also deals with operations applied for data structures.\n"
   ]
  },
  {
   "cell_type": "markdown",
   "metadata": {},
   "source": [
    "# Differentiate between function and method\n",
    "\n",
    "##  Functions\n",
    "1.Functions have independent existence means they can be defined outside of the class.\n",
    "\n",
    "2.Functions do not have any reference variable.\n",
    "\n",
    "3.Functions are self describing unit of code.\n",
    "\n",
    "4.All data that are passed to a function are explicitly passed.\n",
    "\n",
    "## Methods\n",
    "1.Methods do not have independent existence they are always defined with in class.\n",
    "\n",
    "2.Methods are defined in object oriented languages.\n",
    "\n",
    "3.Methods are called using reference variable.\n",
    "\n",
    "4.Methods are used to manipuate instance variable of a class.\n",
    "\n"
   ]
  },
  {
   "cell_type": "markdown",
   "metadata": {},
   "source": [
    "### Classes\n",
    "A class is a code template for creating objects. Objects have member variables and have behaviour associated with them. In python a class is created by the keyword class . An object is created using the constructor of the class. This object will then be called the instance of the class.\n",
    "\n",
    "### Attributes\n",
    "In python, functions too are objects. So they have attributes like other objects. ... We can also assign new attributes to them, as well as retrieve the values of those attributes. For handling attributes, Python provides us with “getattr” and “setattr”, a function that takes three arguments\n",
    "\n",
    "### Object \n",
    "Python is an object oriented programming language. Unlike procedure oriented programming, where the main emphasis is on functions, object oriented programming stress on objects. Object is simply a collection of data (variables) and methods (functions) that act on those data.\n",
    "\n",
    "### Behavior \n",
    "Object Behavior and Special Methods. Objects in Python are generally classified according to their behaviors and the features that they implement. ... User-defined classes can define new objects that behave like the built-in types simply by supplying an appropriate subset of the special methods described in this section.\n",
    "\n"
   ]
  },
  {
   "cell_type": "code",
   "execution_count": 1,
   "metadata": {},
   "outputs": [
    {
     "name": "stdout",
     "output_type": "stream",
     "text": [
      "model: BMW, color: black, name: i8, mileage: 47.45 kmpl, year: 2015\n",
      "model: Toyota, color: green, name: corolla, mileage: 28 mpg, year: 2019\n",
      "model: Honda, color: white, name: civic, mileage: 26.8 kmpl, year: 2019\n",
      "model: Rolce Royce, color: Anthracite, name: phantom, mileage: 12 mpg, year: 2019\n",
      "model: Audi, color: metallic, name: a4, mileage: 16 mpg, year: 2015\n",
      "i8 is driven at 47.45 kmpl\n",
      "corolla's green color is changed to Pink\n",
      "model: Toyota, color: Pink, name: corolla, mileage: 28 mpg, year: 2019\n",
      "a4's metallic color is changed to Red\n",
      "model: Audi, color: Red, name: a4, mileage: 16 mpg, year: 2015\n"
     ]
    }
   ],
   "source": [
    "class car():\n",
    "    def __init__(self,model,color,name,mileAge,year):\n",
    "        self.name=name\n",
    "        self.model=model\n",
    "        self.color=color\n",
    "        self.mileAge=mileAge\n",
    "        self.year=year\n",
    "    def drive(self):\n",
    "        print(self.name+\" is driven at \"+self.mileAge)\n",
    "        \n",
    "    def fuleUp(self):\n",
    "        print(self.name+\" is fuled up.\")\n",
    "    def changeColor(self,color):\n",
    "        print(self.name+\"'s \"+self.color+\" color is changed to \"+color)\n",
    "        self.color=color\n",
    "    def showDetails(self):\n",
    "        print(\"model: \"+self.model+\", color: \"+self.color+\", name: \"+self.name+\", mileage: \"+self.mileAge+\", year: \"+str(self.year))\n",
    "car1=car(\"BMW\",\"black\",\"i8\",\"47.45 kmpl\",2015)\n",
    "car2=car(\"Toyota\",\"green\",\"corolla\", \"28 mpg\", 2019)\n",
    "car3=car(\"Honda\",\"white\",\"civic\", \"26.8 kmpl\", 2019)\n",
    "car4=car(\"Rolce Royce\",\"Anthracite\",\"phantom\",\"12 mpg\",2019)\n",
    "car5=car(\"Audi\",\"metallic\",\"a4\",\"16 mpg\",2015)\n",
    "car1.showDetails()\n",
    "car2.showDetails()\n",
    "car3.showDetails()\n",
    "car4.showDetails()\n",
    "car5.showDetails()\n",
    "car1.drive()\n",
    "car2.changeColor(\"Pink\")\n",
    "car2.showDetails()\n",
    "car5.changeColor(\"Red\")\n",
    "car5.showDetails()"
   ]
  },
  {
   "cell_type": "code",
   "execution_count": null,
   "metadata": {},
   "outputs": [],
   "source": []
  }
 ],
 "metadata": {
  "kernelspec": {
   "display_name": "Python 3",
   "language": "python",
   "name": "python3"
  },
  "language_info": {
   "codemirror_mode": {
    "name": "ipython",
    "version": 3
   },
   "file_extension": ".py",
   "mimetype": "text/x-python",
   "name": "python",
   "nbconvert_exporter": "python",
   "pygments_lexer": "ipython3",
   "version": "3.7.4"
  }
 },
 "nbformat": 4,
 "nbformat_minor": 2
}
